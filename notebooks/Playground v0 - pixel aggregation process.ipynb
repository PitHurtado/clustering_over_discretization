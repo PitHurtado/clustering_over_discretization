{
 "cells": [
  {
   "cell_type": "markdown",
   "id": "e04221b5",
   "metadata": {},
   "source": [
    "### Load Libraries"
   ]
  },
  {
   "cell_type": "code",
   "execution_count": 1,
   "id": "55f6dd85",
   "metadata": {},
   "outputs": [],
   "source": [
    "import os, sys\n",
    "project_home = \"/Users/pitehrhurtado/Documents/OperationResearchs/clustering_and_discretization/src/\"\n",
    "if project_home not in sys.path:\n",
    "    sys.path = [project_home] + sys.path"
   ]
  },
  {
   "cell_type": "code",
   "execution_count": 2,
   "id": "a906ab6a",
   "metadata": {},
   "outputs": [],
   "source": [
    "import numpy as np\n",
    "import pandas as pd\n",
    "\n",
    "from app.aggregations.nearest_pixel import Meta_Pixel\n",
    "\n",
    "import logging"
   ]
  },
  {
   "cell_type": "markdown",
   "id": "36d01235",
   "metadata": {},
   "source": [
    "##### Configs"
   ]
  },
  {
   "cell_type": "code",
   "execution_count": null,
   "id": "badb1c73",
   "metadata": {},
   "outputs": [],
   "source": [
    "logger = logging.getLogger(__name__)\n",
    "logging.basicConfig(level=logging.INFO)"
   ]
  },
  {
   "cell_type": "code",
   "execution_count": null,
   "id": "4a5eb7ea",
   "metadata": {},
   "outputs": [],
   "source": [
    "# pd.set_option(\"display.max_columns\", None)\n",
    "# pd.set_option(\"display.max_rows\", None)"
   ]
  },
  {
   "cell_type": "markdown",
   "id": "9860dca0",
   "metadata": {},
   "source": [
    "### Load Data\n",
    "#### A. pixel data"
   ]
  },
  {
   "cell_type": "code",
   "execution_count": null,
   "id": "3f05f927",
   "metadata": {},
   "outputs": [],
   "source": []
  },
  {
   "cell_type": "markdown",
   "id": "2f0a3392",
   "metadata": {},
   "source": [
    "#### B. grid data"
   ]
  },
  {
   "cell_type": "code",
   "execution_count": null,
   "id": "89f3ea1f",
   "metadata": {},
   "outputs": [],
   "source": []
  },
  {
   "cell_type": "code",
   "execution_count": null,
   "id": "94e5a95e",
   "metadata": {},
   "outputs": [],
   "source": []
  },
  {
   "cell_type": "markdown",
   "id": "f87e16d6",
   "metadata": {},
   "source": [
    "### Description of Layers"
   ]
  },
  {
   "cell_type": "markdown",
   "id": "8bfc1596",
   "metadata": {},
   "source": [
    "#### A. Current State"
   ]
  },
  {
   "cell_type": "code",
   "execution_count": null,
   "id": "80b8f595",
   "metadata": {},
   "outputs": [],
   "source": []
  },
  {
   "cell_type": "markdown",
   "id": "efd79b67",
   "metadata": {},
   "source": [
    "## Aggregation Process"
   ]
  },
  {
   "cell_type": "code",
   "execution_count": null,
   "id": "97af42ce",
   "metadata": {},
   "outputs": [],
   "source": []
  }
 ],
 "metadata": {
  "kernelspec": {
   "display_name": "Python 3 (ipykernel)",
   "language": "python",
   "name": "python3"
  },
  "language_info": {
   "codemirror_mode": {
    "name": "ipython",
    "version": 3
   },
   "file_extension": ".py",
   "mimetype": "text/x-python",
   "name": "python",
   "nbconvert_exporter": "python",
   "pygments_lexer": "ipython3",
   "version": "3.10.11"
  }
 },
 "nbformat": 4,
 "nbformat_minor": 5
}
